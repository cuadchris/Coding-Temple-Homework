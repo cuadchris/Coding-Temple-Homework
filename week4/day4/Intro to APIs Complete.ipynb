{
 "cells": [
  {
   "cell_type": "markdown",
   "id": "7196054f",
   "metadata": {},
   "source": [
    "# Working with APIs"
   ]
  },
  {
   "cell_type": "markdown",
   "id": "0547b71e",
   "metadata": {},
   "source": [
    "API stands for Application programming interface<br>\n",
    "APIs are a way for applications to talk to eachother<br>\n",
    "In python we use the requests package to handle the connection<br>\n",
    "<small><strong>Note: It is requests with an s not request(this is a different package)</strong></small><br>\n",
    "Most API's communicate with data in the form of JSON<br>\n",
    "JSON stands for JavaScript Object Notation"
   ]
  },
  {
   "cell_type": "code",
   "execution_count": null,
   "id": "4db9d154",
   "metadata": {},
   "outputs": [],
   "source": [
    "#import the packages we need:\n",
    "import requests, json"
   ]
  },
  {
   "cell_type": "markdown",
   "id": "e8c2ce51",
   "metadata": {},
   "source": [
    "We will be connecting to the Ergast F1 Racer API today:\n",
    "http://ergast.com/mrd/\n",
    "\n",
    "to view JSON data nicely in the Chrome browser install the extension JSONview"
   ]
  },
  {
   "cell_type": "code",
   "execution_count": null,
   "id": "52c440c6",
   "metadata": {},
   "outputs": [],
   "source": [
    "help(requests)"
   ]
  },
  {
   "cell_type": "code",
   "execution_count": null,
   "id": "f60c1b4a",
   "metadata": {},
   "outputs": [],
   "source": [
    "url = \"http://ergast.com/api/f1/2008/5/driverStandings.json\""
   ]
  },
  {
   "cell_type": "code",
   "execution_count": null,
   "id": "7b63a204",
   "metadata": {},
   "outputs": [],
   "source": [
    "#response object\n",
    "response = requests.get(url)\n",
    "print(response)"
   ]
  },
  {
   "cell_type": "code",
   "execution_count": null,
   "id": "c6d1fdaf",
   "metadata": {},
   "outputs": [],
   "source": [
    "#check and make sure we got a successful response from the API\n",
    "response.ok"
   ]
  },
  {
   "cell_type": "code",
   "execution_count": null,
   "id": "ed4d3256",
   "metadata": {},
   "outputs": [],
   "source": [
    "#view the response as a JSON\n",
    "response.json()"
   ]
  },
  {
   "cell_type": "code",
   "execution_count": null,
   "id": "92e6cd2c",
   "metadata": {},
   "outputs": [],
   "source": [
    "type(response.json())"
   ]
  },
  {
   "cell_type": "code",
   "execution_count": null,
   "id": "f074dfcf",
   "metadata": {},
   "outputs": [],
   "source": [
    "# We only want the Driver Standings\n",
    "data = response.json()[\"MRData\"][\"StandingsTable\"][\"StandingsLists\"][0][\"DriverStandings\"]\n",
    "data"
   ]
  },
  {
   "cell_type": "code",
   "execution_count": null,
   "id": "d3794c75",
   "metadata": {},
   "outputs": [],
   "source": [
    "type(data)"
   ]
  },
  {
   "cell_type": "code",
   "execution_count": null,
   "id": "be46a950",
   "metadata": {},
   "outputs": [],
   "source": [
    "def get_racer_info(data):\n",
    "    new_data=[]\n",
    "    for racer in data:\n",
    "        racer_dict={}\n",
    "        racer_name = f\"{racer['Driver']['givenName']} {racer['Driver']['familyName']}\"\n",
    "        \n",
    "        racer_dict[racer_name]={\n",
    "            'first_name':racer['Driver']['givenName'],\n",
    "            'last_name':racer['Driver']['familyName'],\n",
    "            'position':racer['position'],\n",
    "            'wins':racer['wins'],\n",
    "            'DOB':racer['Driver']['dateOfBirth'],\n",
    "            'nationality':racer['Driver']['nationality'],\n",
    "            'contructor':racer['Constructors'][0]['name']\n",
    "        }\n",
    "        new_data.append(racer_dict)\n",
    "    return new_data\n",
    "\n",
    "get_racer_info(data)"
   ]
  },
  {
   "cell_type": "code",
   "execution_count": null,
   "id": "3740c752",
   "metadata": {},
   "outputs": [],
   "source": [
    "def get_driver_info_by_year_and_round(year,r):\n",
    "    url = f\"http://ergast.com/api/f1/{year}/{r}/driverStandings.json\"\n",
    "    response = requests.get(url)\n",
    "#     if not response.ok:\n",
    "    if not response.json()[\"MRData\"][\"StandingsTable\"][\"StandingsLists\"]:\n",
    "        return \"We had an error loading your data likely the year or round is not in the database\"\n",
    "    data = response.json()[\"MRData\"][\"StandingsTable\"][\"StandingsLists\"][0][\"DriverStandings\"]\n",
    "    return get_racer_info(data)\n",
    "\n",
    "get_driver_info_by_year_and_round(2022,4)"
   ]
  },
  {
   "cell_type": "markdown",
   "id": "6d546014",
   "metadata": {},
   "source": [
    "# <strong>Homework</strong>\n",
    "check out this Pokemon API https://pokeapi.co/\n",
    "Use the requests package to connect to this API and get and store data for 5 different pokemon.\n",
    "Get the pokemons: name, atleast one ability's name, base_experience, and the URL for its sprite (an image that shows up on screen) for the 'front_shiny'"
   ]
  },
  {
   "cell_type": "code",
   "execution_count": null,
   "id": "5a9081e3",
   "metadata": {},
   "outputs": [],
   "source": [
    "import requests as r\n",
    "import random\n",
    "\n",
    "# Simple show function for me to use in the other functions.\n",
    "\n",
    "def showPokemon(name, abilities, base_exp, f_shiny):\n",
    "    print(f'Pokemon name: {name.capitalize()}\\n')\n",
    "    print(\"\\u0332\".join(\"Abilities: \"))\n",
    "    for i in abilities:\n",
    "        print(i.capitalize())\n",
    "    print(\"\\u0332\".join(\"Base experience:\"), base_exp)\n",
    "    print(\"\\u0332\".join(\"Front shiny:\"), f_shiny + \"\\n\")\n",
    "\n",
    "def getFiveRandomPokemon():\n",
    "    # Gets list of 100 pokemon names. This number may be changed.\n",
    "    url = 'https://pokeapi.co/api/v2/pokemon?offset=0&limit=100'\n",
    "    response = r.get(url)\n",
    "    if not response.ok:\n",
    "        return \"Error!\"\n",
    "    data = response.json()\n",
    "    names = [name['name'] for name in data['results']]\n",
    "    \n",
    "    for i in range(5):\n",
    "        name = random.choice(names)\n",
    "        url = f'https://pokeapi.co/api/v2/pokemon/{name}'\n",
    "        response = r.get(url)\n",
    "        if not response.ok:\n",
    "            return \"Error!\"\n",
    "        data = response.json()\n",
    "        abilities = [ability['ability']['name'] for ability in data['abilities']]\n",
    "        f_shiny = data['sprites']['front_shiny']\n",
    "        base_exp = data['base_experience']\n",
    "        showPokemon(name, abilities, base_exp, f_shiny)\n",
    "\n",
    "# The above function will pick 5 pokemon at random from a list of 100 pokemon gathered from the API.\n",
    "# I figured 100 was enough to get some good diversity but that number may be changed!\n",
    "\n",
    "def pickYourPokemon():\n",
    "    pokemon = input(\"Enter the name of the pokemon you'd like to see: \")\n",
    "    url = f'https://pokeapi.co/api/v2/pokemon/{pokemon}'\n",
    "    response = r.get(url)\n",
    "    if not response.ok:\n",
    "        return \"Error!\"\n",
    "    data = response.json()\n",
    "    abilities = [ability['ability']['name'] for ability in data['abilities']]\n",
    "    f_shiny = data['sprites']['front_shiny']\n",
    "    base_exp = data['base_experience']\n",
    "    showPokemon(pokemon, abilities, base_exp, f_shiny)\n",
    "\n",
    "# This function is basically the same as the above but it let's the user type in which Pokemon they specifically\n",
    "# want to see.\n",
    "\n",
    "# Try them! pretty cool.\n",
    "\n",
    "# getFiveRandomPokemon()\n",
    "# pickYourPokemon()"
   ]
  }
 ],
 "metadata": {
  "kernelspec": {
   "display_name": "Python 3.10.6 64-bit",
   "language": "python",
   "name": "python3"
  },
  "language_info": {
   "codemirror_mode": {
    "name": "ipython",
    "version": 3
   },
   "file_extension": ".py",
   "mimetype": "text/x-python",
   "name": "python",
   "nbconvert_exporter": "python",
   "pygments_lexer": "ipython3",
   "version": "3.10.6"
  },
  "vscode": {
   "interpreter": {
    "hash": "aee8b7b246df8f9039afb4144a1f6fd8d2ca17a180786b69acc140d282b71a49"
   }
  }
 },
 "nbformat": 4,
 "nbformat_minor": 5
}
